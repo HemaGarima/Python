{
  "nbformat": 4,
  "nbformat_minor": 0,
  "metadata": {
    "colab": {
      "provenance": [],
      "gpuType": "T4",
      "authorship_tag": "ABX9TyNmpHR5f04Z0zuisKI1eCUo",
      "include_colab_link": true
    },
    "kernelspec": {
      "name": "python3",
      "display_name": "Python 3"
    },
    "language_info": {
      "name": "python"
    },
    "accelerator": "GPU"
  },
  "cells": [
    {
      "cell_type": "markdown",
      "metadata": {
        "id": "view-in-github",
        "colab_type": "text"
      },
      "source": [
        "<a href=\"https://colab.research.google.com/github/HemaGarima/Python/blob/master/Numpy.ipynb\" target=\"_parent\"><img src=\"https://colab.research.google.com/assets/colab-badge.svg\" alt=\"Open In Colab\"/></a>"
      ]
    },
    {
      "cell_type": "code",
      "source": [
        "import numpy as np"
      ],
      "metadata": {
        "id": "wdoGXT9xdsDM"
      },
      "execution_count": 1,
      "outputs": []
    },
    {
      "cell_type": "code",
      "execution_count": 2,
      "metadata": {
        "id": "tOePbBWvbw1T",
        "colab": {
          "base_uri": "https://localhost:8080/"
        },
        "outputId": "515cf323-646c-4d3b-92d4-abd89b3f4ad1"
      },
      "outputs": [
        {
          "output_type": "stream",
          "name": "stdout",
          "text": [
            "[1 2 3 4]\n"
          ]
        }
      ],
      "source": [
        "li = [1,2,3,4]\n",
        "print(np.array(li))"
      ]
    },
    {
      "cell_type": "code",
      "source": [
        "tup = (5 , 6 , 7 , 8)\n",
        "print(np.array(tup))"
      ],
      "metadata": {
        "id": "P7eackTqdhVE",
        "colab": {
          "base_uri": "https://localhost:8080/"
        },
        "outputId": "07345493-d39f-4734-fd4c-fa7f24aa04ff"
      },
      "execution_count": 3,
      "outputs": [
        {
          "output_type": "stream",
          "name": "stdout",
          "text": [
            "[5 6 7 8]\n"
          ]
        }
      ]
    },
    {
      "cell_type": "code",
      "source": [
        "iterable = (a for a in range(8))\n",
        "print(np.fromiter(iterable , float))"
      ],
      "metadata": {
        "id": "HgAkTo5Zdqk6",
        "colab": {
          "base_uri": "https://localhost:8080/"
        },
        "outputId": "fcf387f8-5f41-4a06-d1eb-c5e81cd77792"
      },
      "execution_count": 4,
      "outputs": [
        {
          "output_type": "stream",
          "name": "stdout",
          "text": [
            "[0. 1. 2. 3. 4. 5. 6. 7.]\n"
          ]
        }
      ]
    },
    {
      "cell_type": "code",
      "source": [
        "list_1 = [1 , 2 , 3 , 4]\n",
        "list_2 = [5 , 6 , 7 , 8]\n",
        "list_3 = [9 , 10 , 11 , 12]\n",
        "print(np.array([list_1 , list_2 , list_3]))"
      ],
      "metadata": {
        "id": "IkqO9ggrd-Z1",
        "colab": {
          "base_uri": "https://localhost:8080/"
        },
        "outputId": "ceb6f3db-3604-401c-a6e8-5cadb80f141d"
      },
      "execution_count": 5,
      "outputs": [
        {
          "output_type": "stream",
          "name": "stdout",
          "text": [
            "[[ 1  2  3  4]\n",
            " [ 5  6  7  8]\n",
            " [ 9 10 11 12]]\n"
          ]
        }
      ]
    },
    {
      "cell_type": "code",
      "source": [
        "print(np.empty([4,3] , dtype = int))"
      ],
      "metadata": {
        "id": "iaUt6glLedIJ",
        "colab": {
          "base_uri": "https://localhost:8080/"
        },
        "outputId": "b26018c1-1408-4181-b44c-22f28dfdf178"
      },
      "execution_count": 6,
      "outputs": [
        {
          "output_type": "stream",
          "name": "stdout",
          "text": [
            "[[ 1  2  3]\n",
            " [ 4  5  6]\n",
            " [ 7  8  9]\n",
            " [10 11 12]]\n"
          ]
        }
      ]
    },
    {
      "cell_type": "code",
      "source": [
        "print(np.arange(1,10))"
      ],
      "metadata": {
        "id": "gL7wJOC5eqJj",
        "colab": {
          "base_uri": "https://localhost:8080/"
        },
        "outputId": "c4de2e62-f34d-4645-d211-33635eef3a19"
      },
      "execution_count": 7,
      "outputs": [
        {
          "output_type": "stream",
          "name": "stdout",
          "text": [
            "[1 2 3 4 5 6 7 8 9]\n"
          ]
        }
      ]
    },
    {
      "cell_type": "code",
      "source": [
        "print(np.linspace(1,10,3))"
      ],
      "metadata": {
        "id": "lHf8utame0tz",
        "colab": {
          "base_uri": "https://localhost:8080/"
        },
        "outputId": "b9c9c6a5-b13b-494f-f049-15e8766dc3fa"
      },
      "execution_count": 8,
      "outputs": [
        {
          "output_type": "stream",
          "name": "stdout",
          "text": [
            "[ 1.   5.5 10. ]\n"
          ]
        }
      ]
    },
    {
      "cell_type": "code",
      "source": [
        "print(np.zeros(5 , dtype = int))"
      ],
      "metadata": {
        "id": "Dh2aD0KJe3_c",
        "colab": {
          "base_uri": "https://localhost:8080/"
        },
        "outputId": "0ca1ca6a-71e4-4681-98cb-def40fcd956a"
      },
      "execution_count": 9,
      "outputs": [
        {
          "output_type": "stream",
          "name": "stdout",
          "text": [
            "[0 0 0 0 0]\n"
          ]
        }
      ]
    },
    {
      "cell_type": "code",
      "source": [
        "print(np.ones(5 , dtype = int))"
      ],
      "metadata": {
        "id": "f7pLS8dbe_g4",
        "colab": {
          "base_uri": "https://localhost:8080/"
        },
        "outputId": "67dd7184-446f-4ae8-fd07-3d3e4ff01db4"
      },
      "execution_count": 10,
      "outputs": [
        {
          "output_type": "stream",
          "name": "stdout",
          "text": [
            "[1 1 1 1 1]\n"
          ]
        }
      ]
    },
    {
      "cell_type": "code",
      "source": [
        "print(np.random.rand(5))"
      ],
      "metadata": {
        "id": "_EDwEE6lfEtl",
        "colab": {
          "base_uri": "https://localhost:8080/"
        },
        "outputId": "6b47df46-5b79-4ed2-d0b0-470da396cc02"
      },
      "execution_count": 11,
      "outputs": [
        {
          "output_type": "stream",
          "name": "stdout",
          "text": [
            "[0.30282708 0.32618854 0.0718954  0.50984304 0.04256863]\n"
          ]
        }
      ]
    },
    {
      "cell_type": "code",
      "source": [
        "print(np.random.randint(5 , size = 10))"
      ],
      "metadata": {
        "id": "RerwP-_3fING",
        "colab": {
          "base_uri": "https://localhost:8080/"
        },
        "outputId": "767f1211-5216-413f-cd3f-80e5bea7abd2"
      },
      "execution_count": 12,
      "outputs": [
        {
          "output_type": "stream",
          "name": "stdout",
          "text": [
            "[1 4 0 4 0 4 0 0 3 3]\n"
          ]
        }
      ]
    },
    {
      "cell_type": "code",
      "source": [
        "print(np.zeros([4,3] , dtype = np.int32))"
      ],
      "metadata": {
        "id": "1DMvEP42fPDa",
        "colab": {
          "base_uri": "https://localhost:8080/"
        },
        "outputId": "7ff0d434-cf56-426c-b2d2-68e4c503cacc"
      },
      "execution_count": 13,
      "outputs": [
        {
          "output_type": "stream",
          "name": "stdout",
          "text": [
            "[[0 0 0]\n",
            " [0 0 0]\n",
            " [0 0 0]\n",
            " [0 0 0]]\n"
          ]
        }
      ]
    },
    {
      "cell_type": "code",
      "source": [
        "print(np.ones([4,3] , dtype = np.int32))"
      ],
      "metadata": {
        "id": "jeMUXDJIfYUL",
        "colab": {
          "base_uri": "https://localhost:8080/"
        },
        "outputId": "0811f16f-0b78-4aca-dcfd-eef39467a0ce"
      },
      "execution_count": 14,
      "outputs": [
        {
          "output_type": "stream",
          "name": "stdout",
          "text": [
            "[[1 1 1]\n",
            " [1 1 1]\n",
            " [1 1 1]\n",
            " [1 1 1]]\n"
          ]
        }
      ]
    },
    {
      "cell_type": "code",
      "source": [
        "print(np.full([2,2] , 67 , dtype = int))"
      ],
      "metadata": {
        "id": "z8Y-vIasfhtM",
        "colab": {
          "base_uri": "https://localhost:8080/"
        },
        "outputId": "2a652313-9fd5-4498-a6da-abec9acb5721"
      },
      "execution_count": 15,
      "outputs": [
        {
          "output_type": "stream",
          "name": "stdout",
          "text": [
            "[[67 67]\n",
            " [67 67]]\n"
          ]
        }
      ]
    },
    {
      "cell_type": "code",
      "source": [
        "print(np.eye(4))"
      ],
      "metadata": {
        "id": "iPtkAZhgfvfv",
        "colab": {
          "base_uri": "https://localhost:8080/"
        },
        "outputId": "c53a9b2d-09d8-4a22-8e0a-418282168b55"
      },
      "execution_count": 16,
      "outputs": [
        {
          "output_type": "stream",
          "name": "stdout",
          "text": [
            "[[1. 0. 0. 0.]\n",
            " [0. 1. 0. 0.]\n",
            " [0. 0. 1. 0.]\n",
            " [0. 0. 0. 1.]]\n"
          ]
        }
      ]
    },
    {
      "cell_type": "code",
      "source": [
        "x = np.array([1,2,3,4])\n",
        "print(x)"
      ],
      "metadata": {
        "id": "Yipylq0Yf60s",
        "colab": {
          "base_uri": "https://localhost:8080/"
        },
        "outputId": "b38269bf-2d68-4c30-a905-00502f7da6bb"
      },
      "execution_count": 17,
      "outputs": [
        {
          "output_type": "stream",
          "name": "stdout",
          "text": [
            "[1 2 3 4]\n"
          ]
        }
      ]
    },
    {
      "cell_type": "code",
      "source": [
        "y = [1,2,3,4]\n",
        "print(y)"
      ],
      "metadata": {
        "id": "YpsuqZX4OkqV",
        "colab": {
          "base_uri": "https://localhost:8080/"
        },
        "outputId": "e032b2b9-0762-4e4a-ed7a-29faee201841"
      },
      "execution_count": 18,
      "outputs": [
        {
          "output_type": "stream",
          "name": "stdout",
          "text": [
            "[1, 2, 3, 4]\n"
          ]
        }
      ]
    },
    {
      "cell_type": "code",
      "source": [
        "print(x.dtype)"
      ],
      "metadata": {
        "id": "WD5DQbEQOofn",
        "colab": {
          "base_uri": "https://localhost:8080/"
        },
        "outputId": "dfc7128c-8fd1-4f3e-97a0-7058dea09d62"
      },
      "execution_count": 19,
      "outputs": [
        {
          "output_type": "stream",
          "name": "stdout",
          "text": [
            "int64\n"
          ]
        }
      ]
    },
    {
      "cell_type": "code",
      "source": [
        "print(type(x))"
      ],
      "metadata": {
        "id": "j2PNJfLFOsXm",
        "colab": {
          "base_uri": "https://localhost:8080/"
        },
        "outputId": "916e792a-004d-491a-c4cb-a3d1c33ea07a"
      },
      "execution_count": 20,
      "outputs": [
        {
          "output_type": "stream",
          "name": "stdout",
          "text": [
            "<class 'numpy.ndarray'>\n"
          ]
        }
      ]
    },
    {
      "cell_type": "code",
      "source": [
        "print(type(y))"
      ],
      "metadata": {
        "id": "GEZqgINtOvOe",
        "colab": {
          "base_uri": "https://localhost:8080/"
        },
        "outputId": "1183dcec-0733-4351-c9d9-fd49f05cb7b1"
      },
      "execution_count": 21,
      "outputs": [
        {
          "output_type": "stream",
          "name": "stdout",
          "text": [
            "<class 'list'>\n"
          ]
        }
      ]
    },
    {
      "cell_type": "code",
      "source": [
        "%timeit [j**4 for j in range(1,9)]"
      ],
      "metadata": {
        "id": "EymCSqi8Ow5W",
        "colab": {
          "base_uri": "https://localhost:8080/"
        },
        "outputId": "c149bfde-5bd1-4310-ba72-e16a32d23342"
      },
      "execution_count": 22,
      "outputs": [
        {
          "output_type": "stream",
          "name": "stdout",
          "text": [
            "3.04 µs ± 468 ns per loop (mean ± std. dev. of 7 runs, 100000 loops each)\n"
          ]
        }
      ]
    },
    {
      "cell_type": "code",
      "source": [
        "%timeit np.arange(1,9)**4"
      ],
      "metadata": {
        "id": "Pam15ULQPGy3",
        "colab": {
          "base_uri": "https://localhost:8080/"
        },
        "outputId": "52b78882-d5f5-4c68-b2fe-ca241471679c"
      },
      "execution_count": 23,
      "outputs": [
        {
          "output_type": "stream",
          "name": "stdout",
          "text": [
            "3.54 µs ± 544 ns per loop (mean ± std. dev. of 7 runs, 100000 loops each)\n"
          ]
        }
      ]
    },
    {
      "cell_type": "code",
      "source": [
        "x = [1,2,3,4]\n",
        "y = np.array(x)\n",
        "print(y)"
      ],
      "metadata": {
        "id": "BcwiByf9PYVu",
        "colab": {
          "base_uri": "https://localhost:8080/"
        },
        "outputId": "359b42fb-bc89-42ce-b85e-f7cea4a22a46"
      },
      "execution_count": 24,
      "outputs": [
        {
          "output_type": "stream",
          "name": "stdout",
          "text": [
            "[1 2 3 4]\n"
          ]
        }
      ]
    },
    {
      "cell_type": "code",
      "source": [
        "y = np.array([1,2,3,4,5])\n",
        "print(y)"
      ],
      "metadata": {
        "id": "tQg4QYwFQIJx",
        "colab": {
          "base_uri": "https://localhost:8080/"
        },
        "outputId": "3887b9c7-0ca0-4ec5-bf94-28be94a97add"
      },
      "execution_count": 25,
      "outputs": [
        {
          "output_type": "stream",
          "name": "stdout",
          "text": [
            "[1 2 3 4 5]\n"
          ]
        }
      ]
    },
    {
      "cell_type": "code",
      "source": [
        "print(y)\n",
        "print(type(y))"
      ],
      "metadata": {
        "id": "6-ECyFbGQNxk",
        "colab": {
          "base_uri": "https://localhost:8080/"
        },
        "outputId": "ab3520a7-3457-41ad-f50f-46dfd0ac2a4b"
      },
      "execution_count": 26,
      "outputs": [
        {
          "output_type": "stream",
          "name": "stdout",
          "text": [
            "[1 2 3 4 5]\n",
            "<class 'numpy.ndarray'>\n"
          ]
        }
      ]
    },
    {
      "cell_type": "code",
      "source": [
        "l = []\n",
        "for i in range(1,5):\n",
        "  int_1 = input(\"Enter : \")\n",
        "  l.append(int_1)\n",
        "print(np.array(l))"
      ],
      "metadata": {
        "id": "H_tEdOhLQUvC",
        "colab": {
          "base_uri": "https://localhost:8080/"
        },
        "outputId": "7db24259-1c02-4417-cad4-daf49eea9999"
      },
      "execution_count": 27,
      "outputs": [
        {
          "output_type": "stream",
          "name": "stdout",
          "text": [
            "Enter : 3\n",
            "Enter : 4\n",
            "Enter : 5\n",
            "Enter : 7\n",
            "['3' '4' '5' '7']\n"
          ]
        }
      ]
    },
    {
      "cell_type": "code",
      "source": [
        "ar2 = np.array([[1,2,3,4] , [1,2,3,4]])"
      ],
      "metadata": {
        "id": "VUS2ydoBQ8oh"
      },
      "execution_count": 28,
      "outputs": []
    },
    {
      "cell_type": "code",
      "source": [
        "print(ar2)"
      ],
      "metadata": {
        "id": "3YFHIHaMRSev",
        "colab": {
          "base_uri": "https://localhost:8080/"
        },
        "outputId": "62e6e4c2-2398-47f3-a58c-0939c3970b0b"
      },
      "execution_count": 29,
      "outputs": [
        {
          "output_type": "stream",
          "name": "stdout",
          "text": [
            "[[1 2 3 4]\n",
            " [1 2 3 4]]\n"
          ]
        }
      ]
    },
    {
      "cell_type": "code",
      "source": [
        "print(ar2.ndim)"
      ],
      "metadata": {
        "id": "YZXgO8oYRTuk",
        "colab": {
          "base_uri": "https://localhost:8080/"
        },
        "outputId": "11ad5052-c610-462a-fa02-2a0cf3ce5614"
      },
      "execution_count": 30,
      "outputs": [
        {
          "output_type": "stream",
          "name": "stdout",
          "text": [
            "2\n"
          ]
        }
      ]
    },
    {
      "cell_type": "code",
      "source": [
        "ar3 = np.array([[[1,2,3,4] , [1,2,3,4] , [1,2,3,4]]])\n",
        "print(ar3)\n",
        "print(ar3.ndim)"
      ],
      "metadata": {
        "id": "L4_UxnzoRg1n",
        "colab": {
          "base_uri": "https://localhost:8080/"
        },
        "outputId": "ecfa85a3-f78e-4483-ac72-295008ffa9e4"
      },
      "execution_count": 31,
      "outputs": [
        {
          "output_type": "stream",
          "name": "stdout",
          "text": [
            "[[[1 2 3 4]\n",
            "  [1 2 3 4]\n",
            "  [1 2 3 4]]]\n",
            "3\n"
          ]
        }
      ]
    },
    {
      "cell_type": "code",
      "source": [
        "arn = np.array([1,2,3,4] , ndmin = 10)"
      ],
      "metadata": {
        "id": "baVjAht1R35M"
      },
      "execution_count": 32,
      "outputs": []
    },
    {
      "cell_type": "code",
      "source": [
        "print(arn)"
      ],
      "metadata": {
        "id": "F4lv7sN-SHqb",
        "colab": {
          "base_uri": "https://localhost:8080/"
        },
        "outputId": "a06ce9b7-1dd7-4bc0-fc73-65978b9f931a"
      },
      "execution_count": 33,
      "outputs": [
        {
          "output_type": "stream",
          "name": "stdout",
          "text": [
            "[[[[[[[[[[1 2 3 4]]]]]]]]]]\n"
          ]
        }
      ]
    },
    {
      "cell_type": "code",
      "source": [
        "ar_zero = np.zeros(4)"
      ],
      "metadata": {
        "id": "lhMEpfJdSOPD"
      },
      "execution_count": 34,
      "outputs": []
    },
    {
      "cell_type": "code",
      "source": [
        "print(ar_zero)"
      ],
      "metadata": {
        "id": "UG5h5rvSSgJG",
        "colab": {
          "base_uri": "https://localhost:8080/"
        },
        "outputId": "b6585b6d-6506-43f2-afcf-d9e0df6ddb58"
      },
      "execution_count": 35,
      "outputs": [
        {
          "output_type": "stream",
          "name": "stdout",
          "text": [
            "[0. 0. 0. 0.]\n"
          ]
        }
      ]
    },
    {
      "cell_type": "code",
      "source": [
        " ar_zero1 = np.zeros((3,4))\n",
        " print(ar_zero1)"
      ],
      "metadata": {
        "id": "ZUE1Plx4SjTi",
        "colab": {
          "base_uri": "https://localhost:8080/"
        },
        "outputId": "a0ae56ef-522b-4b7d-81ed-46f062198fdd"
      },
      "execution_count": 36,
      "outputs": [
        {
          "output_type": "stream",
          "name": "stdout",
          "text": [
            "[[0. 0. 0. 0.]\n",
            " [0. 0. 0. 0.]\n",
            " [0. 0. 0. 0.]]\n"
          ]
        }
      ]
    },
    {
      "cell_type": "code",
      "source": [
        "ar_one = np.ones(4)\n",
        "print(ar_one)"
      ],
      "metadata": {
        "id": "V3OQq2GrS_zX",
        "colab": {
          "base_uri": "https://localhost:8080/"
        },
        "outputId": "2040e96c-0376-43cf-894a-40372fd2e9d5"
      },
      "execution_count": 37,
      "outputs": [
        {
          "output_type": "stream",
          "name": "stdout",
          "text": [
            "[1. 1. 1. 1.]\n"
          ]
        }
      ]
    },
    {
      "cell_type": "code",
      "source": [
        "ar_emp = np.empty(4)\n",
        "print(ar_emp)"
      ],
      "metadata": {
        "id": "mdMHpOaITHZL",
        "colab": {
          "base_uri": "https://localhost:8080/"
        },
        "outputId": "63efd5a5-ca2a-4146-bdaa-dd63004ab00a"
      },
      "execution_count": 38,
      "outputs": [
        {
          "output_type": "stream",
          "name": "stdout",
          "text": [
            "[1. 1. 1. 1.]\n"
          ]
        }
      ]
    },
    {
      "cell_type": "code",
      "source": [
        "ar_rn = np.arange(4)\n",
        "print(ar_rn)"
      ],
      "metadata": {
        "id": "wg_iKDpaTSY8",
        "colab": {
          "base_uri": "https://localhost:8080/"
        },
        "outputId": "c86f07dd-3aba-42db-8e2c-9b0f8662a5f3"
      },
      "execution_count": 39,
      "outputs": [
        {
          "output_type": "stream",
          "name": "stdout",
          "text": [
            "[0 1 2 3]\n"
          ]
        }
      ]
    },
    {
      "cell_type": "code",
      "source": [
        "ar_dia = np.eye(3)\n",
        "print(ar_dia)"
      ],
      "metadata": {
        "id": "Tt6mIcNxTaY6",
        "colab": {
          "base_uri": "https://localhost:8080/"
        },
        "outputId": "71f83923-04a7-4f17-e483-37b33dd927ee"
      },
      "execution_count": 40,
      "outputs": [
        {
          "output_type": "stream",
          "name": "stdout",
          "text": [
            "[[1. 0. 0.]\n",
            " [0. 1. 0.]\n",
            " [0. 0. 1.]]\n"
          ]
        }
      ]
    },
    {
      "cell_type": "code",
      "source": [
        "ar_dia = np.eye(3,5)\n",
        "print(ar_dia)"
      ],
      "metadata": {
        "id": "FtI-R8MdThHK",
        "colab": {
          "base_uri": "https://localhost:8080/"
        },
        "outputId": "962bc8d9-7c63-4c6e-c848-f54792c40d23"
      },
      "execution_count": 41,
      "outputs": [
        {
          "output_type": "stream",
          "name": "stdout",
          "text": [
            "[[1. 0. 0. 0. 0.]\n",
            " [0. 1. 0. 0. 0.]\n",
            " [0. 0. 1. 0. 0.]]\n"
          ]
        }
      ]
    },
    {
      "cell_type": "code",
      "source": [
        "ar_lin = np.linspace(0,10 , num = 5)\n",
        "print(ar_lin)"
      ],
      "metadata": {
        "id": "8cGttW_tTveI",
        "colab": {
          "base_uri": "https://localhost:8080/"
        },
        "outputId": "e17acfef-eda1-441a-e216-4fd4998b5cc0"
      },
      "execution_count": 42,
      "outputs": [
        {
          "output_type": "stream",
          "name": "stdout",
          "text": [
            "[ 0.   2.5  5.   7.5 10. ]\n"
          ]
        }
      ]
    },
    {
      "cell_type": "code",
      "source": [
        "var = np.random.rand(4)\n",
        "print(var)"
      ],
      "metadata": {
        "id": "owHx6kfPUBTJ",
        "colab": {
          "base_uri": "https://localhost:8080/"
        },
        "outputId": "735837d4-0f82-478d-fcf0-e8cfbf0c3503"
      },
      "execution_count": 43,
      "outputs": [
        {
          "output_type": "stream",
          "name": "stdout",
          "text": [
            "[0.11428303 0.9273702  0.01462588 0.40790145]\n"
          ]
        }
      ]
    },
    {
      "cell_type": "code",
      "source": [
        "var1 = np.random.rand(2,5) # generate random value between 0 to 1\n",
        "print(var1)"
      ],
      "metadata": {
        "id": "RMHi_zKOUV2N",
        "colab": {
          "base_uri": "https://localhost:8080/"
        },
        "outputId": "3ba28084-8d0e-4672-a49a-ebcce07572a0"
      },
      "execution_count": 44,
      "outputs": [
        {
          "output_type": "stream",
          "name": "stdout",
          "text": [
            "[[0.3129878  0.12968919 0.11185834 0.40162764 0.53182674]\n",
            " [0.75562882 0.34607831 0.79090351 0.23194878 0.4140361 ]]\n"
          ]
        }
      ]
    },
    {
      "cell_type": "code",
      "source": [
        "var2 = np.random.randn(5) # generate random value close to zero. May return positive or negative numbers as well.\n",
        "print(var2)"
      ],
      "metadata": {
        "id": "zuFPrSxSYC71",
        "colab": {
          "base_uri": "https://localhost:8080/"
        },
        "outputId": "ac37c0b4-2a5a-44ee-df3a-678fb22ddd2a"
      },
      "execution_count": 45,
      "outputs": [
        {
          "output_type": "stream",
          "name": "stdout",
          "text": [
            "[ 1.03645816  0.45255002  2.40778647 -0.78553688  0.78127258]\n"
          ]
        }
      ]
    },
    {
      "cell_type": "code",
      "source": [
        "var3 = np.random.ranf(4) # Do random sampling in numpy , Returns an array of specified shape and fills it with random floats in the half open interval [0.0 , 1.0].\n",
        "print(var3)"
      ],
      "metadata": {
        "id": "wgEcThlBYVfL",
        "colab": {
          "base_uri": "https://localhost:8080/"
        },
        "outputId": "3ec94cf7-098b-439a-9286-f68d94fb56ae"
      },
      "execution_count": 46,
      "outputs": [
        {
          "output_type": "stream",
          "name": "stdout",
          "text": [
            "[0.16253851 0.19615126 0.14341139 0.08452603]\n"
          ]
        }
      ]
    },
    {
      "cell_type": "code",
      "source": [
        "# randint() - the function is used to generate a random number between a given range"
      ],
      "metadata": {
        "id": "Wmptc9zUYq6R"
      },
      "execution_count": 47,
      "outputs": []
    },
    {
      "cell_type": "code",
      "source": [
        "var4 = np.random.randint(5,20 ,5)\n",
        "print(var4)"
      ],
      "metadata": {
        "id": "OeN_lddUZVyX",
        "colab": {
          "base_uri": "https://localhost:8080/"
        },
        "outputId": "37d62f1f-e89f-4239-ebd9-e7b73960ccf7"
      },
      "execution_count": 48,
      "outputs": [
        {
          "output_type": "stream",
          "name": "stdout",
          "text": [
            "[16 18 11  8 15]\n"
          ]
        }
      ]
    },
    {
      "cell_type": "code",
      "source": [
        "var = np.array([1,2,3,4,12 ,13 , 14 , 15])\n",
        "print(\"Data Type : \" , var.dtype)"
      ],
      "metadata": {
        "id": "7HfQQ0KgZbse",
        "colab": {
          "base_uri": "https://localhost:8080/"
        },
        "outputId": "f296b7c8-8f5c-4749-9877-7111475abc85"
      },
      "execution_count": 49,
      "outputs": [
        {
          "output_type": "stream",
          "name": "stdout",
          "text": [
            "Data Type :  int64\n"
          ]
        }
      ]
    },
    {
      "cell_type": "code",
      "source": [
        "var = np.array([1.0 , 1.2 , 1.4])\n",
        "print(\"Data Type : \" , var.dtype)"
      ],
      "metadata": {
        "id": "hYOI5nOjZ380",
        "colab": {
          "base_uri": "https://localhost:8080/"
        },
        "outputId": "157f8041-717b-4256-89e2-084de1ef1dde"
      },
      "execution_count": 50,
      "outputs": [
        {
          "output_type": "stream",
          "name": "stdout",
          "text": [
            "Data Type :  float64\n"
          ]
        }
      ]
    },
    {
      "cell_type": "code",
      "source": [
        "var = np.array([\"a\" , \"s\" , \"d\" , \"f\"])\n",
        "print(\"Data Type : \" , var.dtype)"
      ],
      "metadata": {
        "id": "FCN0k6D_Z_8H",
        "colab": {
          "base_uri": "https://localhost:8080/"
        },
        "outputId": "77b22054-e31b-44bd-d2ba-26d5c64c53da"
      },
      "execution_count": 51,
      "outputs": [
        {
          "output_type": "stream",
          "name": "stdout",
          "text": [
            "Data Type :  <U1\n"
          ]
        }
      ]
    },
    {
      "cell_type": "code",
      "source": [
        "var = np.array([\"a\" , \"s\" , \"d\" , \"f\" , 235])\n",
        "print(\"Data Type : \" , var.dtype)"
      ],
      "metadata": {
        "id": "7qtoHo-jaKWn",
        "colab": {
          "base_uri": "https://localhost:8080/"
        },
        "outputId": "73d89895-4b2d-4297-e56d-d54425a63dde"
      },
      "execution_count": 52,
      "outputs": [
        {
          "output_type": "stream",
          "name": "stdout",
          "text": [
            "Data Type :  <U21\n"
          ]
        }
      ]
    },
    {
      "cell_type": "code",
      "source": [
        "x = np.array([1,2,3,4])\n",
        "print(\"Data Type : \" , x.dtype )"
      ],
      "metadata": {
        "id": "MD_B6EAKa0Zv",
        "colab": {
          "base_uri": "https://localhost:8080/"
        },
        "outputId": "283935b3-c768-4b29-c1dc-9a97a94aec0f"
      },
      "execution_count": 53,
      "outputs": [
        {
          "output_type": "stream",
          "name": "stdout",
          "text": [
            "Data Type :  int64\n"
          ]
        }
      ]
    },
    {
      "cell_type": "code",
      "source": [
        "x = np.array([1,2,3,4] , dtype = np.int8)\n",
        "print(\"Data Type : \" , x.dtype )"
      ],
      "metadata": {
        "id": "R-MqZRmHaTtu",
        "colab": {
          "base_uri": "https://localhost:8080/"
        },
        "outputId": "07c90cec-013a-4142-c0bb-bc1cd38b819f"
      },
      "execution_count": 54,
      "outputs": [
        {
          "output_type": "stream",
          "name": "stdout",
          "text": [
            "Data Type :  int8\n"
          ]
        }
      ]
    },
    {
      "cell_type": "code",
      "source": [
        "x = np.array([1,2,3,4] , dtype = \"f\")\n",
        "print(\"Data Type : \" , x.dtype )\n",
        "print(x)"
      ],
      "metadata": {
        "id": "c1-qmQluapHb",
        "colab": {
          "base_uri": "https://localhost:8080/"
        },
        "outputId": "1c428762-b462-4c5a-e68c-746b9e937e77"
      },
      "execution_count": 55,
      "outputs": [
        {
          "output_type": "stream",
          "name": "stdout",
          "text": [
            "Data Type :  float32\n",
            "[1. 2. 3. 4.]\n"
          ]
        }
      ]
    },
    {
      "cell_type": "code",
      "source": [
        "x2 = np.array([1,2,3,4])\n",
        "new = np.float32(x2)\n",
        "new_one = np.int_(new)\n",
        "print(\"Data Type : \" , x2.dtype)\n",
        "print(\"Data Type : \" , new.dtype)\n",
        "print(\"Data Type : \" , new_one.dtype)\n",
        "print(x2)\n",
        "print(new)\n",
        "print(new_one)"
      ],
      "metadata": {
        "id": "I4iF-pY7a8fy",
        "colab": {
          "base_uri": "https://localhost:8080/"
        },
        "outputId": "3e878086-d6ca-4c06-8876-7757c186b0e6"
      },
      "execution_count": 56,
      "outputs": [
        {
          "output_type": "stream",
          "name": "stdout",
          "text": [
            "Data Type :  int64\n",
            "Data Type :  float32\n",
            "Data Type :  int64\n",
            "[1 2 3 4]\n",
            "[1. 2. 3. 4.]\n",
            "[1 2 3 4]\n"
          ]
        }
      ]
    },
    {
      "cell_type": "code",
      "source": [
        "x3 = np.array([1,2,3,4])\n",
        "new_1 = x3.astype(float)\n",
        "print(x3)\n",
        "print(new_1)"
      ],
      "metadata": {
        "id": "-z_twe26bR0s",
        "colab": {
          "base_uri": "https://localhost:8080/"
        },
        "outputId": "3450e4d1-65e5-40e4-d3dd-6bf120aea17d"
      },
      "execution_count": 57,
      "outputs": [
        {
          "output_type": "stream",
          "name": "stdout",
          "text": [
            "[1 2 3 4]\n",
            "[1. 2. 3. 4.]\n"
          ]
        }
      ]
    },
    {
      "cell_type": "code",
      "source": [
        "var = np.array([1,2,3,4])\n",
        "varadd = var-3\n",
        "print(varadd)"
      ],
      "metadata": {
        "id": "qrhtxfLwcdZS",
        "colab": {
          "base_uri": "https://localhost:8080/"
        },
        "outputId": "4b6c3b2f-5f02-4733-cea3-12c6e4829d80"
      },
      "execution_count": 58,
      "outputs": [
        {
          "output_type": "stream",
          "name": "stdout",
          "text": [
            "[-2 -1  0  1]\n"
          ]
        }
      ]
    },
    {
      "cell_type": "code",
      "source": [
        "var1 = np.array([1,2,3,4])\n",
        "var2 = np.array([1,2,3,4])\n",
        "varadd = var1 + var2\n",
        "print(varadd)"
      ],
      "metadata": {
        "id": "Hw0HwdpJcu9O",
        "colab": {
          "base_uri": "https://localhost:8080/"
        },
        "outputId": "fb2a814f-685f-49b3-8ea6-0a3fd70fb6ab"
      },
      "execution_count": 59,
      "outputs": [
        {
          "output_type": "stream",
          "name": "stdout",
          "text": [
            "[2 4 6 8]\n"
          ]
        }
      ]
    },
    {
      "cell_type": "code",
      "source": [
        "var = np.array([1,2,3,4])\n",
        "varadd = var*3\n",
        "print(varadd)"
      ],
      "metadata": {
        "id": "mPypXaITc78F",
        "colab": {
          "base_uri": "https://localhost:8080/"
        },
        "outputId": "aa53be55-9e5d-4c0b-8b54-006d37e71e5d"
      },
      "execution_count": 60,
      "outputs": [
        {
          "output_type": "stream",
          "name": "stdout",
          "text": [
            "[ 3  6  9 12]\n"
          ]
        }
      ]
    },
    {
      "cell_type": "code",
      "source": [
        "var = np.array([1,2,3,4])\n",
        "varadd = var/3\n",
        "print(varadd)"
      ],
      "metadata": {
        "id": "8f2b7ve7dHUw",
        "colab": {
          "base_uri": "https://localhost:8080/"
        },
        "outputId": "7bba01fb-a4d2-454e-985d-c13d4c34bc08"
      },
      "execution_count": 61,
      "outputs": [
        {
          "output_type": "stream",
          "name": "stdout",
          "text": [
            "[0.33333333 0.66666667 1.         1.33333333]\n"
          ]
        }
      ]
    },
    {
      "cell_type": "code",
      "source": [
        "var1 = np.array([1,2,3,4])\n",
        "var2 = np.array([1,2,3,4])\n",
        "varadd = np.add(var1 , var2)\n",
        "print(varadd)"
      ],
      "metadata": {
        "id": "1hNkn5HodMnM",
        "colab": {
          "base_uri": "https://localhost:8080/"
        },
        "outputId": "721098ab-7843-4a22-829b-d78eb56a2f70"
      },
      "execution_count": 62,
      "outputs": [
        {
          "output_type": "stream",
          "name": "stdout",
          "text": [
            "[2 4 6 8]\n"
          ]
        }
      ]
    },
    {
      "cell_type": "code",
      "source": [
        "var1 = np.array([1,2,3,4])\n",
        "var2 = np.array([1,2,3,4])\n",
        "varadd = np.add(var1 , 3)\n",
        "print(varadd)"
      ],
      "metadata": {
        "id": "8eYJjV-4dW7q",
        "colab": {
          "base_uri": "https://localhost:8080/"
        },
        "outputId": "46a94593-0031-4ae1-d4bf-c9139aa6a776"
      },
      "execution_count": 63,
      "outputs": [
        {
          "output_type": "stream",
          "name": "stdout",
          "text": [
            "[4 5 6 7]\n"
          ]
        }
      ]
    },
    {
      "cell_type": "code",
      "source": [
        "var = np.array([1,2,3,4])\n",
        "varadd = var%3\n",
        "print(varadd)"
      ],
      "metadata": {
        "id": "OP017isyder7",
        "colab": {
          "base_uri": "https://localhost:8080/"
        },
        "outputId": "9ffa8ff4-2e04-47a3-87f7-0f7e85560a1a"
      },
      "execution_count": 64,
      "outputs": [
        {
          "output_type": "stream",
          "name": "stdout",
          "text": [
            "[1 2 0 1]\n"
          ]
        }
      ]
    },
    {
      "cell_type": "code",
      "source": [
        "var21 = np.array([[1,2,3,4] , [1,2,3,4]])\n",
        "var22 = np.array([[1,2,3,4] , [1,2,3,4]])\n",
        "varadd2 = var21 + var22\n",
        "print(var21)\n",
        "print(var22)\n",
        "print(varadd2)"
      ],
      "metadata": {
        "id": "wcrwxYhPdoBY",
        "colab": {
          "base_uri": "https://localhost:8080/"
        },
        "outputId": "dd8fc423-bf32-41c5-ff16-eded4b5618c2"
      },
      "execution_count": 65,
      "outputs": [
        {
          "output_type": "stream",
          "name": "stdout",
          "text": [
            "[[1 2 3 4]\n",
            " [1 2 3 4]]\n",
            "[[1 2 3 4]\n",
            " [1 2 3 4]]\n",
            "[[2 4 6 8]\n",
            " [2 4 6 8]]\n"
          ]
        }
      ]
    },
    {
      "cell_type": "code",
      "source": [
        "var = np.array([1,2,3,4])\n",
        "varadd = np.reciprocal(var)\n",
        "print(varadd)"
      ],
      "metadata": {
        "id": "5kttSXASeBnT",
        "colab": {
          "base_uri": "https://localhost:8080/"
        },
        "outputId": "e711ed66-8860-4989-bb9b-6cccbca51442"
      },
      "execution_count": 66,
      "outputs": [
        {
          "output_type": "stream",
          "name": "stdout",
          "text": [
            "[1 0 0 0]\n"
          ]
        }
      ]
    },
    {
      "cell_type": "code",
      "source": [
        "var = np.array([1,2,3,4,5,3,2])\n",
        "print(\"min : \" , np.min(var) , \"argmin : \" , np.argmin(var))\n",
        "print(\"max : \" , np.max(var) , \"argmax : \" , np.argmax(var))"
      ],
      "metadata": {
        "id": "mek7l25_eYXn",
        "colab": {
          "base_uri": "https://localhost:8080/"
        },
        "outputId": "8a9073f6-b070-42e4-8b44-bc74a1ec76f1"
      },
      "execution_count": 67,
      "outputs": [
        {
          "output_type": "stream",
          "name": "stdout",
          "text": [
            "min :  1 argmin :  0\n",
            "max :  5 argmax :  4\n"
          ]
        }
      ]
    },
    {
      "cell_type": "code",
      "source": [
        "var1 = np.array([[2,1,3],[9,5,5]]) # axis = 0 --> column\n",
        "# axis = 1 --> row\n",
        "print(np.min(var1 , axis = 1))\n",
        "print(np.min(var1 , axis = 0))"
      ],
      "metadata": {
        "id": "Cm1rH7YTf9dh",
        "colab": {
          "base_uri": "https://localhost:8080/"
        },
        "outputId": "ac2ff78e-9e4b-4706-832c-3d4033d2fdbb"
      },
      "execution_count": 68,
      "outputs": [
        {
          "output_type": "stream",
          "name": "stdout",
          "text": [
            "[1 5]\n",
            "[2 1 3]\n"
          ]
        }
      ]
    },
    {
      "cell_type": "code",
      "source": [
        "print(\"sqrt : \" ,np.sqrt(var))"
      ],
      "metadata": {
        "id": "j7StyIwMgVU-",
        "colab": {
          "base_uri": "https://localhost:8080/"
        },
        "outputId": "16bc9f23-695a-45d6-af5a-a512f58350b5"
      },
      "execution_count": 69,
      "outputs": [
        {
          "output_type": "stream",
          "name": "stdout",
          "text": [
            "sqrt :  [1.         1.41421356 1.73205081 2.         2.23606798 1.73205081\n",
            " 1.41421356]\n"
          ]
        }
      ]
    },
    {
      "cell_type": "code",
      "source": [
        "var2 = np.array([1,2,3])\n",
        "print(np.sin(var2))\n",
        "print(np.cos(var2))\n",
        "print(np.cumsum(var2))"
      ],
      "metadata": {
        "id": "DaeukWEQg0QR",
        "colab": {
          "base_uri": "https://localhost:8080/"
        },
        "outputId": "b35f5c12-91ae-4253-b17f-947bb972f328"
      },
      "execution_count": 70,
      "outputs": [
        {
          "output_type": "stream",
          "name": "stdout",
          "text": [
            "[0.84147098 0.90929743 0.14112001]\n",
            "[ 0.54030231 -0.41614684 -0.9899925 ]\n",
            "[1 3 6]\n"
          ]
        }
      ]
    },
    {
      "cell_type": "code",
      "source": [
        "var = np.array([[1,2,3,4],[1,2,3,4]])\n",
        "print(var)\n",
        "print()\n",
        "print(var.shape)"
      ],
      "metadata": {
        "id": "pMmN0QsnhDZ9",
        "colab": {
          "base_uri": "https://localhost:8080/"
        },
        "outputId": "abba7d0f-e0cb-483d-d383-beadfb0ab3e9"
      },
      "execution_count": 71,
      "outputs": [
        {
          "output_type": "stream",
          "name": "stdout",
          "text": [
            "[[1 2 3 4]\n",
            " [1 2 3 4]]\n",
            "\n",
            "(2, 4)\n"
          ]
        }
      ]
    },
    {
      "cell_type": "code",
      "source": [
        "var1 = np.array([1,2,3,4] , ndmin = 4)\n",
        "print(var1)\n",
        "print(var1.ndim)\n",
        "print()\n",
        "print(var1.shape)"
      ],
      "metadata": {
        "id": "HrUnUZwbhdaZ",
        "colab": {
          "base_uri": "https://localhost:8080/"
        },
        "outputId": "22770670-f6c7-42f2-dadf-981bfe79dcd2"
      },
      "execution_count": 72,
      "outputs": [
        {
          "output_type": "stream",
          "name": "stdout",
          "text": [
            "[[[[1 2 3 4]]]]\n",
            "4\n",
            "\n",
            "(1, 1, 1, 4)\n"
          ]
        }
      ]
    },
    {
      "cell_type": "code",
      "source": [
        "var2 = np.array([1,2,3,4,5,6])\n",
        "print(var2)\n",
        "print(var2.ndim)\n",
        "print()\n",
        "x = var2.reshape(3,2)\n",
        "print(x)\n",
        "print(x.ndim)"
      ],
      "metadata": {
        "id": "uljDkzjlhzIZ",
        "colab": {
          "base_uri": "https://localhost:8080/"
        },
        "outputId": "8f8434a4-581d-4595-a087-49bee4117a1f"
      },
      "execution_count": 73,
      "outputs": [
        {
          "output_type": "stream",
          "name": "stdout",
          "text": [
            "[1 2 3 4 5 6]\n",
            "1\n",
            "\n",
            "[[1 2]\n",
            " [3 4]\n",
            " [5 6]]\n",
            "2\n"
          ]
        }
      ]
    },
    {
      "cell_type": "code",
      "source": [
        "var3 = np.array([1,2,3,4,5,6,7,8,9,10 , 11 ,12])\n",
        "print(var3)\n",
        "print(var3.ndim)\n",
        "print()\n",
        "x1 = var3.reshape(2,3,2)\n",
        "print(x1)\n",
        "print(x1.ndim)\n",
        "print()\n",
        "one = x1.reshape(-1) # to reshaping array in one dimension\n",
        "print(one)\n",
        "print(one.ndim)"
      ],
      "metadata": {
        "id": "KTp44zl-iia_",
        "colab": {
          "base_uri": "https://localhost:8080/"
        },
        "outputId": "02985d32-c6ca-4fd3-90f1-0f4ab234e326"
      },
      "execution_count": 74,
      "outputs": [
        {
          "output_type": "stream",
          "name": "stdout",
          "text": [
            "[ 1  2  3  4  5  6  7  8  9 10 11 12]\n",
            "1\n",
            "\n",
            "[[[ 1  2]\n",
            "  [ 3  4]\n",
            "  [ 5  6]]\n",
            "\n",
            " [[ 7  8]\n",
            "  [ 9 10]\n",
            "  [11 12]]]\n",
            "3\n",
            "\n",
            "[ 1  2  3  4  5  6  7  8  9 10 11 12]\n",
            "1\n"
          ]
        }
      ]
    },
    {
      "cell_type": "code",
      "source": [
        "var1 = np.array([1,2,3,4])\n",
        "var2 = np.array([1,2,3])\n",
        "print(var1+var2)"
      ],
      "metadata": {
        "id": "-duVVkWCjtht",
        "colab": {
          "base_uri": "https://localhost:8080/",
          "height": 176
        },
        "outputId": "7ddbbb7c-59db-448c-9f64-bf7abcfb90eb"
      },
      "execution_count": 75,
      "outputs": [
        {
          "output_type": "error",
          "ename": "ValueError",
          "evalue": "operands could not be broadcast together with shapes (4,) (3,) ",
          "traceback": [
            "\u001b[0;31m---------------------------------------------------------------------------\u001b[0m",
            "\u001b[0;31mValueError\u001b[0m                                Traceback (most recent call last)",
            "\u001b[0;32m<ipython-input-75-059e8d78d72f>\u001b[0m in \u001b[0;36m<cell line: 0>\u001b[0;34m()\u001b[0m\n\u001b[1;32m      1\u001b[0m \u001b[0mvar1\u001b[0m \u001b[0;34m=\u001b[0m \u001b[0mnp\u001b[0m\u001b[0;34m.\u001b[0m\u001b[0marray\u001b[0m\u001b[0;34m(\u001b[0m\u001b[0;34m[\u001b[0m\u001b[0;36m1\u001b[0m\u001b[0;34m,\u001b[0m\u001b[0;36m2\u001b[0m\u001b[0;34m,\u001b[0m\u001b[0;36m3\u001b[0m\u001b[0;34m,\u001b[0m\u001b[0;36m4\u001b[0m\u001b[0;34m]\u001b[0m\u001b[0;34m)\u001b[0m\u001b[0;34m\u001b[0m\u001b[0;34m\u001b[0m\u001b[0m\n\u001b[1;32m      2\u001b[0m \u001b[0mvar2\u001b[0m \u001b[0;34m=\u001b[0m \u001b[0mnp\u001b[0m\u001b[0;34m.\u001b[0m\u001b[0marray\u001b[0m\u001b[0;34m(\u001b[0m\u001b[0;34m[\u001b[0m\u001b[0;36m1\u001b[0m\u001b[0;34m,\u001b[0m\u001b[0;36m2\u001b[0m\u001b[0;34m,\u001b[0m\u001b[0;36m3\u001b[0m\u001b[0;34m]\u001b[0m\u001b[0;34m)\u001b[0m\u001b[0;34m\u001b[0m\u001b[0;34m\u001b[0m\u001b[0m\n\u001b[0;32m----> 3\u001b[0;31m \u001b[0mprint\u001b[0m\u001b[0;34m(\u001b[0m\u001b[0mvar1\u001b[0m\u001b[0;34m+\u001b[0m\u001b[0mvar2\u001b[0m\u001b[0;34m)\u001b[0m\u001b[0;34m\u001b[0m\u001b[0;34m\u001b[0m\u001b[0m\n\u001b[0m",
            "\u001b[0;31mValueError\u001b[0m: operands could not be broadcast together with shapes (4,) (3,) "
          ]
        }
      ]
    },
    {
      "cell_type": "code",
      "source": [],
      "metadata": {
        "id": "WjqA7m1blEtW"
      },
      "execution_count": null,
      "outputs": []
    }
  ]
}